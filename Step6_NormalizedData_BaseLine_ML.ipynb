{
 "cells": [
  {
   "cell_type": "markdown",
   "metadata": {},
   "source": [
    "# Normalized Data Baseline ML Tests\n",
    "\n",
    "Required Data File `./normalized_global_bands_mean_stdev.csv.csv`\n",
    "\n",
    "\n",
    "## Basic Data Preparation"
   ]
  },
  {
   "cell_type": "code",
   "execution_count": 1,
   "metadata": {},
   "outputs": [],
   "source": [
    "import os, sys\n",
    "import numpy as np\n",
    "import pandas as pd\n"
   ]
  },
  {
   "cell_type": "code",
   "execution_count": 2,
   "metadata": {},
   "outputs": [],
   "source": [
    "# Dataset location\n",
    "DATASET = 'normalized_global_bands_mean_stdev.csv'\n",
    "assert os.path.exists(DATASET)\n",
    "\n",
    "# Load and shuffle\n",
    "dataset = pd.read_csv(DATASET).sample(frac = 1).reset_index(drop=True)"
   ]
  },
  {
   "cell_type": "markdown",
   "metadata": {},
   "source": [
    "#### Note: Becaues we are using `sample(frac = 1)` we are randomizing all the data. Therefore, results will vary from time to time based on the data set reading."
   ]
  },
  {
   "cell_type": "code",
   "execution_count": 3,
   "metadata": {},
   "outputs": [
    {
     "data": {
      "text/html": [
       "<div>\n",
       "<style scoped>\n",
       "    .dataframe tbody tr th:only-of-type {\n",
       "        vertical-align: middle;\n",
       "    }\n",
       "\n",
       "    .dataframe tbody tr th {\n",
       "        vertical-align: top;\n",
       "    }\n",
       "\n",
       "    .dataframe thead th {\n",
       "        text-align: right;\n",
       "    }\n",
       "</style>\n",
       "<table border=\"1\" class=\"dataframe\">\n",
       "  <thead>\n",
       "    <tr style=\"text-align: right;\">\n",
       "      <th></th>\n",
       "      <th>Unnamed: 0</th>\n",
       "      <th>OBJECTID</th>\n",
       "      <th>isBurnt</th>\n",
       "      <th>YrMo</th>\n",
       "      <th>mean_B1</th>\n",
       "      <th>stdev_B1</th>\n",
       "      <th>mean_B2</th>\n",
       "      <th>stdev_B2</th>\n",
       "      <th>mean_B3</th>\n",
       "      <th>stdev_B3</th>\n",
       "      <th>mean_B4</th>\n",
       "      <th>stdev_B4</th>\n",
       "      <th>mean_B5</th>\n",
       "      <th>stdev_B5</th>\n",
       "      <th>mean_B6</th>\n",
       "      <th>stdev_B6</th>\n",
       "    </tr>\n",
       "  </thead>\n",
       "  <tbody>\n",
       "    <tr>\n",
       "      <th>0</th>\n",
       "      <td>96633</td>\n",
       "      <td>1895</td>\n",
       "      <td>1</td>\n",
       "      <td>2006_4</td>\n",
       "      <td>0.289871</td>\n",
       "      <td>0.018321</td>\n",
       "      <td>0.325234</td>\n",
       "      <td>0.022417</td>\n",
       "      <td>0.333848</td>\n",
       "      <td>0.035823</td>\n",
       "      <td>0.465070</td>\n",
       "      <td>0.015978</td>\n",
       "      <td>0.551544</td>\n",
       "      <td>0.069900</td>\n",
       "      <td>0.426185</td>\n",
       "      <td>0.058404</td>\n",
       "    </tr>\n",
       "    <tr>\n",
       "      <th>1</th>\n",
       "      <td>66228</td>\n",
       "      <td>1299</td>\n",
       "      <td>1</td>\n",
       "      <td>2000_6</td>\n",
       "      <td>0.294635</td>\n",
       "      <td>0.014078</td>\n",
       "      <td>0.311422</td>\n",
       "      <td>0.026444</td>\n",
       "      <td>0.347196</td>\n",
       "      <td>0.039621</td>\n",
       "      <td>0.420551</td>\n",
       "      <td>0.048489</td>\n",
       "      <td>0.529021</td>\n",
       "      <td>0.062735</td>\n",
       "      <td>0.429769</td>\n",
       "      <td>0.042028</td>\n",
       "    </tr>\n",
       "    <tr>\n",
       "      <th>2</th>\n",
       "      <td>132256</td>\n",
       "      <td>2594</td>\n",
       "      <td>1</td>\n",
       "      <td>1991_4</td>\n",
       "      <td>0.317965</td>\n",
       "      <td>0.013440</td>\n",
       "      <td>0.357450</td>\n",
       "      <td>0.018805</td>\n",
       "      <td>0.396201</td>\n",
       "      <td>0.019195</td>\n",
       "      <td>0.479060</td>\n",
       "      <td>0.029404</td>\n",
       "      <td>0.598714</td>\n",
       "      <td>0.042791</td>\n",
       "      <td>0.476667</td>\n",
       "      <td>0.041141</td>\n",
       "    </tr>\n",
       "    <tr>\n",
       "      <th>3</th>\n",
       "      <td>23069</td>\n",
       "      <td>453</td>\n",
       "      <td>1</td>\n",
       "      <td>1993_8</td>\n",
       "      <td>0.271130</td>\n",
       "      <td>0.006706</td>\n",
       "      <td>0.306024</td>\n",
       "      <td>0.008943</td>\n",
       "      <td>0.300415</td>\n",
       "      <td>0.010947</td>\n",
       "      <td>0.498327</td>\n",
       "      <td>0.033548</td>\n",
       "      <td>0.488716</td>\n",
       "      <td>0.026404</td>\n",
       "      <td>0.378257</td>\n",
       "      <td>0.024147</td>\n",
       "    </tr>\n",
       "    <tr>\n",
       "      <th>4</th>\n",
       "      <td>120014</td>\n",
       "      <td>2354</td>\n",
       "      <td>1</td>\n",
       "      <td>1990_5</td>\n",
       "      <td>0.239587</td>\n",
       "      <td>0.277020</td>\n",
       "      <td>0.264273</td>\n",
       "      <td>0.314793</td>\n",
       "      <td>0.274977</td>\n",
       "      <td>0.325804</td>\n",
       "      <td>0.354925</td>\n",
       "      <td>0.410307</td>\n",
       "      <td>0.375528</td>\n",
       "      <td>0.435451</td>\n",
       "      <td>0.306269</td>\n",
       "      <td>0.371245</td>\n",
       "    </tr>\n",
       "  </tbody>\n",
       "</table>\n",
       "</div>"
      ],
      "text/plain": [
       "   Unnamed: 0  OBJECTID  isBurnt    YrMo   mean_B1  stdev_B1   mean_B2  \\\n",
       "0       96633      1895        1  2006_4  0.289871  0.018321  0.325234   \n",
       "1       66228      1299        1  2000_6  0.294635  0.014078  0.311422   \n",
       "2      132256      2594        1  1991_4  0.317965  0.013440  0.357450   \n",
       "3       23069       453        1  1993_8  0.271130  0.006706  0.306024   \n",
       "4      120014      2354        1  1990_5  0.239587  0.277020  0.264273   \n",
       "\n",
       "   stdev_B2   mean_B3  stdev_B3   mean_B4  stdev_B4   mean_B5  stdev_B5  \\\n",
       "0  0.022417  0.333848  0.035823  0.465070  0.015978  0.551544  0.069900   \n",
       "1  0.026444  0.347196  0.039621  0.420551  0.048489  0.529021  0.062735   \n",
       "2  0.018805  0.396201  0.019195  0.479060  0.029404  0.598714  0.042791   \n",
       "3  0.008943  0.300415  0.010947  0.498327  0.033548  0.488716  0.026404   \n",
       "4  0.314793  0.274977  0.325804  0.354925  0.410307  0.375528  0.435451   \n",
       "\n",
       "    mean_B6  stdev_B6  \n",
       "0  0.426185  0.058404  \n",
       "1  0.429769  0.042028  \n",
       "2  0.476667  0.041141  \n",
       "3  0.378257  0.024147  \n",
       "4  0.306269  0.371245  "
      ]
     },
     "execution_count": 3,
     "metadata": {},
     "output_type": "execute_result"
    }
   ],
   "source": [
    "dataset.head()"
   ]
  },
  {
   "cell_type": "code",
   "execution_count": 5,
   "metadata": {},
   "outputs": [],
   "source": [
    "# Drop first 3 columns and isBurnt label\n",
    "# 0 index of columns - so \",4\" drops  {0,1,2,3}\n",
    "X = np.array(dataset.iloc[:,4:])\n",
    "y = np.array(dataset.isBurnt)\n",
    "y = y - 1  #shift from {1.2} to {0,1} for non-burn, burn"
   ]
  },
  {
   "cell_type": "markdown",
   "metadata": {},
   "source": [
    "---\n",
    "\n",
    "## Test Baseline ML Classifiers"
   ]
  },
  {
   "cell_type": "code",
   "execution_count": 6,
   "metadata": {},
   "outputs": [],
   "source": [
    "from sklearn.linear_model import LogisticRegression\n",
    "from sklearn.neighbors import KNeighborsClassifier\n",
    "from sklearn.tree import DecisionTreeClassifier\n",
    "from sklearn.svm import LinearSVC\n"
   ]
  },
  {
   "cell_type": "markdown",
   "metadata": {},
   "source": [
    "## Baseline a resubstitution Logistic Regression"
   ]
  },
  {
   "cell_type": "code",
   "execution_count": 7,
   "metadata": {
    "scrolled": true
   },
   "outputs": [
    {
     "name": "stderr",
     "output_type": "stream",
     "text": [
      "/opt/conda/lib/python3.7/site-packages/sklearn/linear_model/logistic.py:433: FutureWarning: Default solver will be changed to 'lbfgs' in 0.22. Specify a solver to silence this warning.\n",
      "  FutureWarning)\n"
     ]
    },
    {
     "name": "stdout",
     "output_type": "stream",
     "text": [
      "Logistic Regression: 0.89320\n"
     ]
    }
   ],
   "source": [
    "# Create an instance of a model that can be trained\n",
    "model = LogisticRegression()\n",
    "\n",
    "# fit = \"train model parameters using this data and expected outcomes\"\n",
    "model.fit(X, y)       \n",
    "LR_RESUB_SCORE = model.score(X, y)\n",
    "print(\"Logistic Regression: {0:6.5f}\".format(LR_RESUB_SCORE))"
   ]
  },
  {
   "cell_type": "markdown",
   "metadata": {},
   "source": [
    "--- \n",
    "\n",
    "## Baseline a resubstitution KNeighborsClassifier"
   ]
  },
  {
   "cell_type": "code",
   "execution_count": 8,
   "metadata": {
    "scrolled": true
   },
   "outputs": [
    {
     "name": "stdout",
     "output_type": "stream",
     "text": [
      "KNN : 0.93273\n"
     ]
    }
   ],
   "source": [
    "# Create an instance of a model that can be trained\n",
    "model = KNeighborsClassifier()\n",
    "\n",
    "# fit = \"train model parameters using this data and expected outcomes\"\n",
    "model.fit(X, y)   \n",
    "KNN_RESUB_SCORE = model.score(X, y)\n",
    "print(\"KNN : {0:6.5f}\".format(KNN_RESUB_SCORE))"
   ]
  },
  {
   "cell_type": "markdown",
   "metadata": {},
   "source": [
    "--- \n",
    "\n",
    "## Baseline a resubstitution Decision Tree"
   ]
  },
  {
   "cell_type": "code",
   "execution_count": 9,
   "metadata": {
    "scrolled": true
   },
   "outputs": [
    {
     "name": "stdout",
     "output_type": "stream",
     "text": [
      "Decision Tree: 0.99982\n"
     ]
    }
   ],
   "source": [
    "# Create an instance of a model that can be trained\n",
    "model = DecisionTreeClassifier()\n",
    "\n",
    "# fit = \"train model parameters using this data and expected outcomes\"\n",
    "model.fit(X, y)       \n",
    "DT_RESUB_SCORE = model.score(X, y)\n",
    "print(\"Decision Tree: {0:6.5f}\".format(DT_RESUB_SCORE))"
   ]
  },
  {
   "cell_type": "markdown",
   "metadata": {},
   "source": [
    "--- \n",
    "\n",
    "## Baseline a resubstitution LinearSVC"
   ]
  },
  {
   "cell_type": "code",
   "execution_count": 10,
   "metadata": {
    "scrolled": true
   },
   "outputs": [
    {
     "name": "stdout",
     "output_type": "stream",
     "text": [
      "Linear SVC Regression: 0.89324\n"
     ]
    }
   ],
   "source": [
    "# Create an instance of a model that can be trained\n",
    "model = LinearSVC()\n",
    "\n",
    "# fit = \"train model parameters using this data and expected outcomes\"\n",
    "model.fit(X, y)       \n",
    "SVC_RESUB_SCORE = model.score(X, y)\n",
    "print(\"Linear SVC Regression: {0:6.5f}\".format(SVC_RESUB_SCORE))"
   ]
  },
  {
   "cell_type": "markdown",
   "metadata": {},
   "source": [
    "---\n",
    "## Resubstitution Model Summary\n",
    "\n",
    "* Logistic Regression: 0.89320\n",
    "* K(5) Nearest Neighbors: 0.93273\n",
    "* Decision Tree: 0.99982\n",
    "* Linear SVC: 0.89324\n",
    "\n",
    "### Question: How to these resubstitution scores differ from unnormalized?  (5 pts)\n",
    "### Thoughts on why? (5 pts)\n",
    "\n",
    "---\n",
    "\n",
    "## Cross-Fold Analysis of Classifier Generalizability\n",
    "We are going to do a 5-fold cross validation for each model.\n",
    "Then, compare the degrade."
   ]
  },
  {
   "cell_type": "raw",
   "metadata": {},
   "source": [
    "How to these resubstitution scores differ from unnormalized? (5 pts)\n",
    "Compared to the unnormalized data, the resubstitution scores for Logistic Regression (0.89320 vs. 0.89292) and Linear SVC (0.89324 vs. 0.89322) remain almost identical, showing minimal improvement. However, the K-Nearest Neighbors (0.93273 vs. 0.93350) score slightly decreased, and the Decision Tree (0.99982 in both cases) remains unchanged."
   ]
  },
  {
   "cell_type": "raw",
   "metadata": {},
   "source": [
    "Thoughts on why? (5 pts)\n",
    "I think normalization standardizes the data to a consistent scale (0 to 1), which typically benefits distance-based models like KNN and SVM by improving numerical stability and convergence. However, in this case, the results suggest that the original data was already well-scaled, leading to minimal changes for Logistic Regression and SVC. The slight drop in KNN’s performance could be due to subtle shifts in feature distances after normalization. Meanwhile, Decision Trees are inherently insensitive to scaling since they split data based on feature thresholds rather than distance calculations, explaining why its score remains the same"
   ]
  },
  {
   "cell_type": "code",
   "execution_count": 11,
   "metadata": {},
   "outputs": [],
   "source": [
    "import sklearn.model_selection\n",
    "XFOLD = 5"
   ]
  },
  {
   "cell_type": "code",
   "execution_count": 12,
   "metadata": {},
   "outputs": [
    {
     "name": "stdout",
     "output_type": "stream",
     "text": [
      "Resub Logistic Regression: 0.89320\n",
      "Fold 0: 0.89326, change  0.01%\n",
      "Fold 1: 0.89322, change  0.00%\n",
      "Fold 2: 0.89310, change -0.01%\n",
      "Fold 3: 0.89314, change -0.01%\n",
      "Fold 4: 0.89318, change -0.00%\n",
      "Average Logit Acc 89.32%\n"
     ]
    }
   ],
   "source": [
    "# Hide the pesky warnings from Logit\n",
    "import warnings; warnings.simplefilter('ignore')\n",
    "\n",
    "# new model\n",
    "model = LogisticRegression()\n",
    "# Show Prior\n",
    "print(\"Resub Logistic Regression: {0:6.5f}\".format(LR_RESUB_SCORE))\n",
    "# Run Cross Val\n",
    "cv_results = sklearn.model_selection.cross_val_score(model, X, y, cv=XFOLD)\n",
    "\n",
    "for i,acc in enumerate(cv_results):\n",
    "    change = (acc-LR_RESUB_SCORE)/LR_RESUB_SCORE * 100\n",
    "    print(\"Fold {}: {:6.5f}, change {:5.2f}%\".format(i,acc,change))\n",
    "\n",
    "print(\"Average Logit Acc {:5.2f}%\".format(np.mean(cv_results)*100))"
   ]
  },
  {
   "cell_type": "code",
   "execution_count": 13,
   "metadata": {},
   "outputs": [
    {
     "name": "stdout",
     "output_type": "stream",
     "text": [
      "Resub KNN: 0.93273\n",
      "Fold 0: 0.90667, change -2.79%\n",
      "Fold 1: 0.90693, change -2.77%\n",
      "Fold 2: 0.90637, change -2.83%\n",
      "Fold 3: 0.90693, change -2.77%\n",
      "Fold 4: 0.90811, change -2.64%\n",
      "Average KNN Acc 90.70%\n"
     ]
    }
   ],
   "source": [
    "\n",
    "# new model\n",
    "model = KNeighborsClassifier()\n",
    "# Show Prior\n",
    "print(\"Resub KNN: {0:6.5f}\".format(KNN_RESUB_SCORE))\n",
    "# Run Cross Val\n",
    "cv_results = sklearn.model_selection.cross_val_score(model, X, y, cv=XFOLD)\n",
    "\n",
    "for i,acc in enumerate(cv_results):\n",
    "    change = (acc-KNN_RESUB_SCORE)/KNN_RESUB_SCORE * 100\n",
    "    print(\"Fold {}: {:6.5f}, change {:5.2f}%\".format(i,acc,change))\n",
    "    \n",
    "print(\"Average KNN Acc {:5.2f}%\".format(np.mean(cv_results)*100))"
   ]
  },
  {
   "cell_type": "code",
   "execution_count": 14,
   "metadata": {},
   "outputs": [
    {
     "name": "stdout",
     "output_type": "stream",
     "text": [
      "Resub Decision Tree: 0.99982\n",
      "Fold 0: 0.87017, change -12.97%\n",
      "Fold 1: 0.87102, change -12.88%\n",
      "Fold 2: 0.86813, change -13.17%\n",
      "Fold 3: 0.86498, change -13.49%\n",
      "Fold 4: 0.86506, change -13.48%\n",
      "Average Decision Tree Acc 86.79%\n"
     ]
    }
   ],
   "source": [
    "# new model\n",
    "model = DecisionTreeClassifier()\n",
    "# Show Prior\n",
    "print(\"Resub Decision Tree: {0:6.5f}\".format(DT_RESUB_SCORE))\n",
    "# Run Cross Val\n",
    "cv_results = sklearn.model_selection.cross_val_score(model, X, y, cv=XFOLD)\n",
    "\n",
    "for i,acc in enumerate(cv_results):\n",
    "    change = (acc-DT_RESUB_SCORE)/DT_RESUB_SCORE * 100\n",
    "    print(\"Fold {}: {:6.5f}, change {:5.2f}%\".format(i,acc,change))\n",
    "    \n",
    "print(\"Average Decision Tree Acc {:5.2f}%\".format(np.mean(cv_results)*100))"
   ]
  },
  {
   "cell_type": "code",
   "execution_count": 15,
   "metadata": {},
   "outputs": [
    {
     "name": "stdout",
     "output_type": "stream",
     "text": [
      "Resub SVC: 0.89324\n",
      "Fold 0: 0.89329, change  0.01%\n",
      "Fold 1: 0.89325, change  0.00%\n",
      "Fold 2: 0.89322, change -0.00%\n",
      "Fold 3: 0.89325, change  0.00%\n",
      "Fold 4: 0.89314, change -0.01%\n",
      "Average Linear SVC Acc 89.32%\n"
     ]
    }
   ],
   "source": [
    "# new model\n",
    "model = LinearSVC()\n",
    "# Show Prior\n",
    "print(\"Resub SVC: {0:6.5f}\".format(SVC_RESUB_SCORE))\n",
    "# Run Cross Val\n",
    "cv_results = sklearn.model_selection.cross_val_score(model, X, y, cv=XFOLD)\n",
    "\n",
    "for i,acc in enumerate(cv_results):\n",
    "    change = (acc-SVC_RESUB_SCORE)/SVC_RESUB_SCORE * 100\n",
    "    print(\"Fold {}: {:6.5f}, change {:5.2f}%\".format(i,acc,change))\n",
    "    \n",
    "print(\"Average Linear SVC Acc {:5.2f}%\".format(np.mean(cv_results)*100))"
   ]
  },
  {
   "cell_type": "markdown",
   "metadata": {},
   "source": [
    "## Notes \n",
    " * Average Logist Reg Acc 89.32%\n",
    " * Average KNN Acc 90.60%\n",
    " * Average Decision Tree Acc 86.72%\n",
    " * Average Linear SVC Acc 89.32%\n",
    "\n",
    "## Questions:  \n",
    "### Based on the numbers above, which method seems to be overfitting the worst? (2 pts)\n",
    "\n",
    "### How can you tell if it is overfitting? (2 pts)\n",
    "\n",
    "### Which is the most consistent with the normalized data? (2 pts)\n",
    "\n",
    "### Which is the best model and what is it's accuracy? (2 pts)"
   ]
  },
  {
   "cell_type": "raw",
   "metadata": {},
   "source": [
    "Which method seems to be overfitting the worst? (2 pts)\n",
    "The Decision Tree Classifier is overfitting the worst. It has a resubstitution accuracy of 99.98%, but its cross-validation accuracy drops significantly to 86.79%, indicating that it performs exceptionally well on the training data but poorly on unseen data."
   ]
  },
  {
   "cell_type": "raw",
   "metadata": {},
   "source": [
    "How can you tell if it is overfitting? (2 pts)\n",
    "Overfitting is evident when there is a large gap between resubstitution accuracy (training performance) and cross-validation accuracy (performance on unseen data). The Decision Tree shows a drop of over 13%, which is much larger than other models, confirming severe overfitting."
   ]
  },
  {
   "cell_type": "raw",
   "metadata": {},
   "source": [
    "Which is the most consistent with the normalized data? (2 pts)\n",
    "The Logistic Regression and Linear SVC models are the most consistent with the normalized data, both showing an average accuracy of 89.32% with minimal fluctuations across cross-validation folds."
   ]
  },
  {
   "cell_type": "raw",
   "metadata": {},
   "source": [
    "Which is the best model and what is its accuracy? (2 pts)\n",
    "The K-Nearest Neighbors (KNN) model is the best model, achieving the highest cross-validation accuracy of 90.70%, making it the most generalizable and effective model for this dataset."
   ]
  },
  {
   "cell_type": "markdown",
   "metadata": {},
   "source": [
    "---"
   ]
  },
  {
   "cell_type": "markdown",
   "metadata": {},
   "source": [
    "# Take best classifer, do train/test split and Confusion Matrix"
   ]
  },
  {
   "cell_type": "code",
   "execution_count": 16,
   "metadata": {},
   "outputs": [
    {
     "data": {
      "text/plain": [
       "KNeighborsClassifier(algorithm='auto', leaf_size=30, metric='minkowski',\n",
       "           metric_params=None, n_jobs=None, n_neighbors=5, p=2,\n",
       "           weights='uniform')"
      ]
     },
     "execution_count": 16,
     "metadata": {},
     "output_type": "execute_result"
    }
   ],
   "source": [
    "# Create an instance of a model that can be trained\n",
    "model = KNeighborsClassifier()\n",
    "\n",
    "from sklearn.model_selection import train_test_split\n",
    "\n",
    "# This function returns four sets:\n",
    "# Training features\n",
    "#       # Testing features\n",
    "#       #        # Training labels\n",
    "#       #        #        # Testing labels\n",
    "X_train, X_test, y_train, y_test = train_test_split(X,y, \n",
    "                                                    test_size=0.20)\n",
    "\n",
    "# fit = \"train model parameters using this data and expected outcomes\"\n",
    "model.fit(X_train, y_train)   \n"
   ]
  },
  {
   "cell_type": "code",
   "execution_count": 17,
   "metadata": {},
   "outputs": [],
   "source": [
    "%matplotlib inline\n",
    "import matplotlib.pyplot as plt\n",
    "import itertools\n",
    "\n",
    "from sklearn.metrics import f1_score, confusion_matrix\n",
    "\n",
    "# Function borrowed from:\n",
    "# http://scikit-learn.org/stable/auto_examples/model_selection/plot_confusion_matrix.html#sphx-glr-auto-examples-model-selection-plot-confusion-matrix-py\n",
    "def plot_confusion_matrix(cm, classes,\n",
    "                          normalize=False,\n",
    "                          title='Confusion matrix',\n",
    "                          cmap=plt.cm.Blues):\n",
    "    \"\"\"\n",
    "    This function prints and plots the confusion matrix.\n",
    "    Normalization can be applied by setting `normalize=True`.\n",
    "    \"\"\"\n",
    "    if normalize:\n",
    "        cm = cm.astype('float') / cm.sum(axis=1)[:, np.newaxis]\n",
    "        print(\"Normalized confusion matrix\")\n",
    "    else:\n",
    "        print('Confusion matrix, without normalization')\n",
    "\n",
    "    print(cm)\n",
    "\n",
    "    plt.imshow(cm, interpolation='nearest', cmap=cmap)\n",
    "    plt.title(title)\n",
    "    plt.colorbar()\n",
    "    tick_marks = np.arange(len(classes))\n",
    "    plt.xticks(tick_marks, classes, rotation=45)\n",
    "    plt.yticks(tick_marks, classes)\n",
    "\n",
    "    fmt = '.2f' if normalize else 'd'\n",
    "    thresh = cm.max() / 2.\n",
    "    for i, j in itertools.product(range(cm.shape[0]), range(cm.shape[1])):\n",
    "        plt.text(j, i, format(cm[i, j], fmt),\n",
    "                 horizontalalignment=\"center\",\n",
    "                 color=\"white\" if cm[i, j] > thresh else \"black\")\n",
    "\n",
    "    plt.ylabel('True label')\n",
    "    plt.xlabel('Predicted label')\n",
    "    plt.tight_layout()"
   ]
  },
  {
   "cell_type": "code",
   "execution_count": 18,
   "metadata": {},
   "outputs": [
    {
     "name": "stdout",
     "output_type": "stream",
     "text": [
      "[1 0 0 ... 0 0 0]\n"
     ]
    }
   ],
   "source": [
    "y_pred = model.predict(X_test)\n",
    "print(y_pred)\n",
    "#pred_class = np.argmax(y_pred, axis=1)"
   ]
  },
  {
   "cell_type": "code",
   "execution_count": 19,
   "metadata": {},
   "outputs": [],
   "source": [
    "np.set_printoptions(precision=2)\n",
    "cnf_matrix = confusion_matrix(y_test, y_pred)"
   ]
  },
  {
   "cell_type": "code",
   "execution_count": 20,
   "metadata": {},
   "outputs": [
    {
     "name": "stdout",
     "output_type": "stream",
     "text": [
      "Normalized confusion matrix\n",
      "[[0.97 0.03]\n",
      " [0.65 0.35]]\n"
     ]
    },
    {
     "data": {
      "image/png": "[encoded data removed]",
      "text/plain": [
       "<Figure size 432x288 with 2 Axes>"
      ]
     },
     "metadata": {
      "needs_background": "light"
     },
     "output_type": "display_data"
    }
   ],
   "source": [
    "plt.figure()\n",
    "plot_confusion_matrix(cnf_matrix, \n",
    "                      classes=['Non-Burn','Burnt'], \n",
    "                      normalize=True,\n",
    "                      title='Normalized confusion matrix')\n",
    "\n",
    "plt.show()"
   ]
  },
  {
   "cell_type": "markdown",
   "metadata": {},
   "source": [
    "## Question:  \n",
    "### Please interpret the Confusion Matrix above.  (5 pts)"
   ]
  },
  {
   "cell_type": "raw",
   "metadata": {},
   "source": [
    "The normalized confusion matrix shows that the K-Nearest Neighbors (KNN) classifier performs well in identifying non-burnt areas, correctly classifying 97% of them, with only 3% misclassified as burnt. However, it struggles with detecting burnt areas, correctly identifying only 35%, while misclassifying 65% as non-burnt. This high false negative rate suggests that the model is biased towards predicting non-burnt areas, possibly due to class imbalance or feature limitations. To improve burnt area detection, techniques such as class balancing (e.g., SMOTE), adjusting decision thresholds, or trying alternative models like Random Forest or boosting methods could be beneficial."
   ]
  }
 ],
 "metadata": {
  "kernelspec": {
   "display_name": "Python 3",
   "language": "python",
   "name": "python3"
  },
  "language_info": {
   "codemirror_mode": {
    "name": "ipython",
    "version": 3
   },
   "file_extension": ".py",
   "mimetype": "text/x-python",
   "name": "python",
   "nbconvert_exporter": "python",
   "pygments_lexer": "ipython3",
   "version": "3.7.3"
  }
 },
 "nbformat": 4,
 "nbformat_minor": 2
}
