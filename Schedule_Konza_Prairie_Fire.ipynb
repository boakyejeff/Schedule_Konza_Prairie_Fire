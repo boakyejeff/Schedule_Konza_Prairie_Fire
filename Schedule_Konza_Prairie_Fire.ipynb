{
 "cells": [
  {
   "cell_type": "markdown",
   "metadata": {},
   "source": [
    "# Prairie Burn Detection with Multitemporal Landsat TM\n",
    "\n",
    "Machine learning has been around for decades, but deep learning is the new focus of study within machine learning. \n",
    "The goals of implementing deep learning into remote sensing are resulting in much faster and accurate results for much larger amounts of data. \n",
    "The field of remote sensing has focused on increasing the accuracy of land classification and change detection. \n",
    "A possible solution for increasing accuracy is the use of a deep learning network that have been producing greater accuracy in image classifying and change detection. \n",
    "This study focuses on classification and change detection within the [Konza Prairie](https://en.wikipedia.org/wiki/Konza_Prairie_Biological_Station) in Geary County, Kansas. \n",
    "The images are from **Landsat4** and **Landsat5** spanning the years 1985-2011 and are trained and tested through a deep learning network. \n",
    "The experimental results show the possibility of a deep learning network producing results that could then be implement for much larger regions.\n",
    "\n",
    "\n",
    " + Shape Length: 480 m\n",
    " + Shape Area: 14400 m\n",
    " + Shape Side: 120 m\n",
    " + Pixel Size = 30x30 m  or 15x15 m\n",
    " + 4x4 or   8x8 area?"
   ]
  },
  {
   "cell_type": "markdown",
   "metadata": {},
   "source": [
    "## Discussion of Data Collection from ArcGIS\n",
    "### Image to Wide Table\n",
    "#### Wide Row is one field\n",
    "#### 6 Bands"
   ]
  },
  {
   "cell_type": "markdown",
   "metadata": {},
   "source": [
    "## Data Carpentry\n",
    "\n",
    "\n",
    "### Wide Table conversion to Fields in Rows of Years\n",
    "\n",
    " * requires: `/dsa/data/geospatial/Prairie/Burn_FinalTable.csv`\n",
    " * requires: `./plots` subfolder.\n",
    "\n",
    "[Convert Flat to Fields](./Convert_Flat_to_Fields.ipynb)\n",
    "\n",
    " * produces: `./plots/pseudo_image_N.csv`,  \n",
    "   * where `N` is the ObjectID from `Burn_FinalTable`\n"
   ]
  },
  {
   "cell_type": "markdown",
   "metadata": {},
   "source": [
    "\n",
    "### Wide Table conversion to Stacked Data \n",
    "##### Prep for statistical analysis and visualization along bands\n",
    "##### Prep for row-level ML baselines\n",
    "\n",
    " * requires: `/dsa/data/geospatial/Prairie/Burn_FinalTable.csv`\n",
    " \n",
    "[Convert Flat to Stacked](./Convert_Flat_to_Stacked.ipynb)\n",
    "\n",
    " * produces: `./FullStacked_data.csv`\n"
   ]
  },
  {
   "cell_type": "markdown",
   "metadata": {},
   "source": [
    "## Descriptive statistical analysis and visualization along bands\n",
    "\n",
    "### Also generates the normalized data in the [0,1] Range\n",
    "\n",
    " * requires: `./FullStacked_data.csv`\n",
    "\n",
    "[Stacked to Visualizations](./Stacked_to_Visualizations.ipynb)\n",
    "\n",
    " * produces: `./normalized_global_bands_mean_stdev.csv`\n",
    "\n",
    "\n",
    "## Geospatial Visualization of Plots\n",
    "\n",
    " * requires: `./FullStacked_data.csv`\n",
    " * requires: `/dsa/data/geospatial/Prairie/tm_stats.gdb`\n",
    " \n",
    "[Visualize GeoDB](./Visualize_GeoDB.ipynb)\n"
   ]
  },
  {
   "cell_type": "markdown",
   "metadata": {},
   "source": [
    "---\n",
    "\n",
    "## Basic ML using Row-Records (Baseline)\n",
    " \n",
    "#### Raw Features\n",
    "\n",
    " * requires: `./FullStacked_data.csv`\n",
    "\n",
    "[Stacked_BaseLine_ML](./Stacked_BaseLine_ML.ipynb)"
   ]
  },
  {
   "cell_type": "markdown",
   "metadata": {},
   "source": [
    "\n",
    "#### Normalized [0,1] Features\n",
    "\n",
    " * requires: `./normalized_global_bands_mean_stdev.csv`\n",
    " \n",
    "[NormalizedData_BaseLine_ML](./NormalizedData_BaseLine_ML.ipynb)"
   ]
  },
  {
   "cell_type": "markdown",
   "metadata": {},
   "source": [
    "#### Standard Scaler (z-score) Features\n",
    "\n",
    " * requires: `./FullStacked_data.csv`\n",
    " \n",
    "[Z-Score_Scaled_BaseLine_ML](./Z-Score_Scaled_BaseLine_ML.ipynb)"
   ]
  },
  {
   "cell_type": "markdown",
   "metadata": {},
   "source": []
  }
 ],
 "metadata": {
  "kernelspec": {
   "display_name": "Python 3",
   "language": "python",
   "name": "python3"
  },
  "language_info": {
   "codemirror_mode": {
    "name": "ipython",
    "version": 3
   },
   "file_extension": ".py",
   "mimetype": "text/x-python",
   "name": "python",
   "nbconvert_exporter": "python",
   "pygments_lexer": "ipython3",
   "version": "3.7.3"
  }
 },
 "nbformat": 4,
 "nbformat_minor": 2
}
