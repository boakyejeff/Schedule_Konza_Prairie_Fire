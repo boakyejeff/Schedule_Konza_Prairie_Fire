{
 "cells": [
  {
   "cell_type": "markdown",
   "metadata": {},
   "source": [
    "# Stacked Data Baseline ML Tests\n",
    "\n",
    "Required Data File `./FullStacked_data.csv`\n",
    "\n",
    "\n",
    "## Basic Data Preparation"
   ]
  },
  {
   "cell_type": "code",
   "execution_count": 1,
   "metadata": {},
   "outputs": [],
   "source": [
    "import os, sys\n",
    "import numpy as np\n",
    "import pandas as pd\n"
   ]
  },
  {
   "cell_type": "code",
   "execution_count": 2,
   "metadata": {},
   "outputs": [],
   "source": [
    "# Dataset location\n",
    "DATASET = 'FullStacked_data.csv'\n",
    "assert os.path.exists(DATASET)\n",
    "\n",
    "# Load and shuffle\n",
    "dataset = pd.read_csv(DATASET).sample(frac = 1).reset_index(drop=True)"
   ]
  },
  {
   "cell_type": "markdown",
   "metadata": {},
   "source": [
    "#### Note: Becaues we are using `sample(frac = 1)` we are randomizing all the data. Therefore, results will vary from time to time based on the data set reading."
   ]
  },
  {
   "cell_type": "code",
   "execution_count": 3,
   "metadata": {},
   "outputs": [
    {
     "data": {
      "text/html": [
       "<div>\n",
       "<style scoped>\n",
       "    .dataframe tbody tr th:only-of-type {\n",
       "        vertical-align: middle;\n",
       "    }\n",
       "\n",
       "    .dataframe tbody tr th {\n",
       "        vertical-align: top;\n",
       "    }\n",
       "\n",
       "    .dataframe thead th {\n",
       "        text-align: right;\n",
       "    }\n",
       "</style>\n",
       "<table border=\"1\" class=\"dataframe\">\n",
       "  <thead>\n",
       "    <tr style=\"text-align: right;\">\n",
       "      <th></th>\n",
       "      <th>Unnamed: 0</th>\n",
       "      <th>OBJECTID</th>\n",
       "      <th>YrMo</th>\n",
       "      <th>mean_B1</th>\n",
       "      <th>stdev_B1</th>\n",
       "      <th>min_B1</th>\n",
       "      <th>max_B1</th>\n",
       "      <th>mean_B2</th>\n",
       "      <th>stdev_B2</th>\n",
       "      <th>min_B2</th>\n",
       "      <th>...</th>\n",
       "      <th>max_B4</th>\n",
       "      <th>mean_B5</th>\n",
       "      <th>stdev_B5</th>\n",
       "      <th>min_B5</th>\n",
       "      <th>max_B5</th>\n",
       "      <th>mean_B6</th>\n",
       "      <th>stdev_B6</th>\n",
       "      <th>min_B6</th>\n",
       "      <th>max_B6</th>\n",
       "      <th>isBurnt</th>\n",
       "    </tr>\n",
       "  </thead>\n",
       "  <tbody>\n",
       "    <tr>\n",
       "      <th>0</th>\n",
       "      <td>26</td>\n",
       "      <td>1921</td>\n",
       "      <td>1998_4</td>\n",
       "      <td>9627.0625</td>\n",
       "      <td>148.36014</td>\n",
       "      <td>9380.0</td>\n",
       "      <td>9835.0</td>\n",
       "      <td>10666.8750</td>\n",
       "      <td>174.07541</td>\n",
       "      <td>10366.0</td>\n",
       "      <td>...</td>\n",
       "      <td>14582.0</td>\n",
       "      <td>17694.625</td>\n",
       "      <td>554.26610</td>\n",
       "      <td>16626.0</td>\n",
       "      <td>18582.0</td>\n",
       "      <td>13989.2500</td>\n",
       "      <td>372.94925</td>\n",
       "      <td>13346.0</td>\n",
       "      <td>14460.0</td>\n",
       "      <td>2</td>\n",
       "    </tr>\n",
       "    <tr>\n",
       "      <th>1</th>\n",
       "      <td>5</td>\n",
       "      <td>2359</td>\n",
       "      <td>1987_4</td>\n",
       "      <td>9020.9375</td>\n",
       "      <td>142.20946</td>\n",
       "      <td>8735.0</td>\n",
       "      <td>9207.0</td>\n",
       "      <td>10164.5000</td>\n",
       "      <td>175.25867</td>\n",
       "      <td>9805.0</td>\n",
       "      <td>...</td>\n",
       "      <td>18744.0</td>\n",
       "      <td>16703.500</td>\n",
       "      <td>385.31630</td>\n",
       "      <td>15828.0</td>\n",
       "      <td>17192.0</td>\n",
       "      <td>12714.3750</td>\n",
       "      <td>317.25485</td>\n",
       "      <td>12123.0</td>\n",
       "      <td>13289.0</td>\n",
       "      <td>1</td>\n",
       "    </tr>\n",
       "    <tr>\n",
       "      <th>2</th>\n",
       "      <td>37</td>\n",
       "      <td>1007</td>\n",
       "      <td>2004_8</td>\n",
       "      <td>9632.1250</td>\n",
       "      <td>160.83444</td>\n",
       "      <td>9246.0</td>\n",
       "      <td>9890.0</td>\n",
       "      <td>10515.0000</td>\n",
       "      <td>172.83981</td>\n",
       "      <td>10231.0</td>\n",
       "      <td>...</td>\n",
       "      <td>14694.0</td>\n",
       "      <td>16077.500</td>\n",
       "      <td>433.96130</td>\n",
       "      <td>15396.0</td>\n",
       "      <td>16759.0</td>\n",
       "      <td>13572.3125</td>\n",
       "      <td>264.32043</td>\n",
       "      <td>13030.0</td>\n",
       "      <td>13937.0</td>\n",
       "      <td>1</td>\n",
       "    </tr>\n",
       "    <tr>\n",
       "      <th>3</th>\n",
       "      <td>37</td>\n",
       "      <td>520</td>\n",
       "      <td>2004_8</td>\n",
       "      <td>10097.1875</td>\n",
       "      <td>108.13092</td>\n",
       "      <td>9854.0</td>\n",
       "      <td>10287.0</td>\n",
       "      <td>11038.4375</td>\n",
       "      <td>130.20854</td>\n",
       "      <td>10799.0</td>\n",
       "      <td>...</td>\n",
       "      <td>14448.0</td>\n",
       "      <td>17772.000</td>\n",
       "      <td>474.47235</td>\n",
       "      <td>16878.0</td>\n",
       "      <td>18519.0</td>\n",
       "      <td>14370.6250</td>\n",
       "      <td>289.18573</td>\n",
       "      <td>13827.0</td>\n",
       "      <td>14866.0</td>\n",
       "      <td>1</td>\n",
       "    </tr>\n",
       "    <tr>\n",
       "      <th>4</th>\n",
       "      <td>4</td>\n",
       "      <td>1637</td>\n",
       "      <td>1986_3</td>\n",
       "      <td>9573.7500</td>\n",
       "      <td>209.65480</td>\n",
       "      <td>9237.0</td>\n",
       "      <td>9917.0</td>\n",
       "      <td>10458.2500</td>\n",
       "      <td>339.71234</td>\n",
       "      <td>9847.0</td>\n",
       "      <td>...</td>\n",
       "      <td>15213.0</td>\n",
       "      <td>18303.938</td>\n",
       "      <td>639.81836</td>\n",
       "      <td>17111.0</td>\n",
       "      <td>19374.0</td>\n",
       "      <td>14178.4375</td>\n",
       "      <td>312.28876</td>\n",
       "      <td>13791.0</td>\n",
       "      <td>14823.0</td>\n",
       "      <td>1</td>\n",
       "    </tr>\n",
       "  </tbody>\n",
       "</table>\n",
       "<p>5 rows × 28 columns</p>\n",
       "</div>"
      ],
      "text/plain": [
       "   Unnamed: 0  OBJECTID    YrMo     mean_B1   stdev_B1  min_B1   max_B1  \\\n",
       "0          26      1921  1998_4   9627.0625  148.36014  9380.0   9835.0   \n",
       "1           5      2359  1987_4   9020.9375  142.20946  8735.0   9207.0   \n",
       "2          37      1007  2004_8   9632.1250  160.83444  9246.0   9890.0   \n",
       "3          37       520  2004_8  10097.1875  108.13092  9854.0  10287.0   \n",
       "4           4      1637  1986_3   9573.7500  209.65480  9237.0   9917.0   \n",
       "\n",
       "      mean_B2   stdev_B2   min_B2  ...   max_B4    mean_B5   stdev_B5  \\\n",
       "0  10666.8750  174.07541  10366.0  ...  14582.0  17694.625  554.26610   \n",
       "1  10164.5000  175.25867   9805.0  ...  18744.0  16703.500  385.31630   \n",
       "2  10515.0000  172.83981  10231.0  ...  14694.0  16077.500  433.96130   \n",
       "3  11038.4375  130.20854  10799.0  ...  14448.0  17772.000  474.47235   \n",
       "4  10458.2500  339.71234   9847.0  ...  15213.0  18303.938  639.81836   \n",
       "\n",
       "    min_B5   max_B5     mean_B6   stdev_B6   min_B6   max_B6  isBurnt  \n",
       "0  16626.0  18582.0  13989.2500  372.94925  13346.0  14460.0        2  \n",
       "1  15828.0  17192.0  12714.3750  317.25485  12123.0  13289.0        1  \n",
       "2  15396.0  16759.0  13572.3125  264.32043  13030.0  13937.0        1  \n",
       "3  16878.0  18519.0  14370.6250  289.18573  13827.0  14866.0        1  \n",
       "4  17111.0  19374.0  14178.4375  312.28876  13791.0  14823.0        1  \n",
       "\n",
       "[5 rows x 28 columns]"
      ]
     },
     "execution_count": 3,
     "metadata": {},
     "output_type": "execute_result"
    }
   ],
   "source": [
    "dataset.head()"
   ]
  },
  {
   "cell_type": "code",
   "execution_count": 5,
   "metadata": {},
   "outputs": [],
   "source": [
    "# Drop first 3 columns and isBurnt label\n",
    "# 0 index of columns - so \",3\" drops  {0,1,2}\n",
    "X = np.array(dataset.iloc[:,3:-1])\n",
    "y = np.array(dataset.isBurnt)\n",
    "y = y - 1  #shift from {1.2} to {0,1} for non-burn, burn"
   ]
  },
  {
   "cell_type": "markdown",
   "metadata": {},
   "source": [
    "---\n",
    "\n",
    "## Test Base Line ML Classifiers"
   ]
  },
  {
   "cell_type": "code",
   "execution_count": 6,
   "metadata": {},
   "outputs": [],
   "source": [
    "from sklearn.linear_model import LogisticRegression\n",
    "from sklearn.neighbors import KNeighborsClassifier\n",
    "from sklearn.tree import DecisionTreeClassifier\n",
    "from sklearn.svm import LinearSVC\n"
   ]
  },
  {
   "cell_type": "markdown",
   "metadata": {},
   "source": [
    "## Baseline a resubstitution Logistic Regression"
   ]
  },
  {
   "cell_type": "code",
   "execution_count": 7,
   "metadata": {
    "scrolled": true
   },
   "outputs": [
    {
     "name": "stderr",
     "output_type": "stream",
     "text": [
      "/opt/conda/lib/python3.7/site-packages/sklearn/linear_model/logistic.py:433: FutureWarning: Default solver will be changed to 'lbfgs' in 0.22. Specify a solver to silence this warning.\n",
      "  FutureWarning)\n"
     ]
    },
    {
     "name": "stdout",
     "output_type": "stream",
     "text": [
      "Logistic Regression: 0.88643\n"
     ]
    }
   ],
   "source": [
    "# Create an instance of a model that can be trained\n",
    "model = LogisticRegression()\n",
    "\n",
    "# fit = \"train model parameters using this data and expected outcomes\"\n",
    "model.fit(X, y)       \n",
    "LR_RESUB_SCORE = model.score(X, y)\n",
    "print(\"Logistic Regression: {0:6.5f}\".format(LR_RESUB_SCORE))"
   ]
  },
  {
   "cell_type": "markdown",
   "metadata": {},
   "source": [
    "--- \n",
    "\n",
    "## Baseline a resubstitution KNeighborsClassifier"
   ]
  },
  {
   "cell_type": "code",
   "execution_count": 8,
   "metadata": {
    "scrolled": true
   },
   "outputs": [
    {
     "name": "stdout",
     "output_type": "stream",
     "text": [
      "KNN : 0.93314\n"
     ]
    }
   ],
   "source": [
    "# Create an instance of a model that can be trained\n",
    "model = KNeighborsClassifier()\n",
    "\n",
    "# fit = \"train model parameters using this data and expected outcomes\"\n",
    "model.fit(X, y)   \n",
    "KNN_RESUB_SCORE = model.score(X, y)\n",
    "print(\"KNN : {0:6.5f}\".format(KNN_RESUB_SCORE))"
   ]
  },
  {
   "cell_type": "markdown",
   "metadata": {},
   "source": [
    "--- \n",
    "\n",
    "## Baseline a resubstitution Decision Tree"
   ]
  },
  {
   "cell_type": "code",
   "execution_count": 9,
   "metadata": {
    "scrolled": true
   },
   "outputs": [
    {
     "name": "stdout",
     "output_type": "stream",
     "text": [
      "Decision Tree: 0.99982\n"
     ]
    }
   ],
   "source": [
    "# Create an instance of a model that can be trained\n",
    "model = DecisionTreeClassifier()\n",
    "\n",
    "# fit = \"train model parameters using this data and expected outcomes\"\n",
    "model.fit(X, y)       \n",
    "DT_RESUB_SCORE = model.score(X, y)\n",
    "print(\"Decision Tree: {0:6.5f}\".format(DT_RESUB_SCORE))"
   ]
  },
  {
   "cell_type": "markdown",
   "metadata": {},
   "source": [
    "--- \n",
    "\n",
    "## Baseline a resubstitution LinearSVC"
   ]
  },
  {
   "cell_type": "code",
   "execution_count": 10,
   "metadata": {
    "scrolled": true
   },
   "outputs": [
    {
     "name": "stdout",
     "output_type": "stream",
     "text": [
      "Linear SVC Regression: 0.81846\n"
     ]
    },
    {
     "name": "stderr",
     "output_type": "stream",
     "text": [
      "/opt/conda/lib/python3.7/site-packages/sklearn/svm/base.py:931: ConvergenceWarning: Liblinear failed to converge, increase the number of iterations.\n",
      "  \"the number of iterations.\", ConvergenceWarning)\n"
     ]
    }
   ],
   "source": [
    "# Create an instance of a model that can be trained\n",
    "model = LinearSVC()\n",
    "\n",
    "# fit = \"train model parameters using this data and expected outcomes\"\n",
    "model.fit(X, y)       \n",
    "SVC_RESUB_SCORE = model.score(X, y)\n",
    "print(\"Linear SVC Regression: {0:6.5f}\".format(SVC_RESUB_SCORE))"
   ]
  },
  {
   "cell_type": "markdown",
   "metadata": {},
   "source": [
    "---\n",
    "## Resubstitution Model Summary\n",
    "\n",
    "* Logistic Regression: 0.88639\n",
    "* K(5) Nearest Neighbors: 0.93313\n",
    "* Decision Tree: 0.99982\n",
    "* Linear SVC: 0.80398\n",
    "\n",
    "---"
   ]
  },
  {
   "cell_type": "markdown",
   "metadata": {},
   "source": [
    "\n",
    "## Cross-Fold Analysis of Classifier Generalizability\n",
    "We are going to do a 5-fold cross validation for each model.\n",
    "Then, compare the degrade."
   ]
  },
  {
   "cell_type": "code",
   "execution_count": 16,
   "metadata": {},
   "outputs": [],
   "source": [
    "import sklearn.model_selection\n",
    "XFOLD = 5"
   ]
  },
  {
   "cell_type": "code",
   "execution_count": 17,
   "metadata": {},
   "outputs": [
    {
     "name": "stdout",
     "output_type": "stream",
     "text": [
      "Resub Logistic Regression: 0.88643\n",
      "Fold 0: 0.88622, change -0.02%\n",
      "Fold 1: 0.88655, change  0.01%\n",
      "Fold 2: 0.88584, change -0.07%\n",
      "Fold 3: 0.88751, change  0.12%\n",
      "Fold 4: 0.88584, change -0.07%\n",
      "Average Logit Acc 88.64%\n"
     ]
    }
   ],
   "source": [
    "# Hide the pesky warnings from Logit\n",
    "import warnings; warnings.simplefilter('ignore')\n",
    "\n",
    "# new model\n",
    "model = LogisticRegression()\n",
    "# Show Prior\n",
    "print(\"Resub Logistic Regression: {0:6.5f}\".format(LR_RESUB_SCORE))\n",
    "# Run Cross Val\n",
    "cv_results = sklearn.model_selection.cross_val_score(model, X, y, cv=XFOLD)\n",
    "\n",
    "for i,acc in enumerate(cv_results):\n",
    "    change = (acc-LR_RESUB_SCORE)/LR_RESUB_SCORE * 100\n",
    "    print(\"Fold {}: {:6.5f}, change {:5.2f}%\".format(i,acc,change))\n",
    "\n",
    "print(\"Average Logit Acc {:5.2f}%\".format(np.mean(cv_results)*100))"
   ]
  },
  {
   "cell_type": "code",
   "execution_count": 18,
   "metadata": {},
   "outputs": [
    {
     "name": "stdout",
     "output_type": "stream",
     "text": [
      "Resub KNN: 0.93314\n",
      "Fold 0: 0.90660, change -2.84%\n",
      "Fold 1: 0.90870, change -2.62%\n",
      "Fold 2: 0.90878, change -2.61%\n",
      "Fold 3: 0.90726, change -2.77%\n",
      "Fold 4: 0.90804, change -2.69%\n",
      "Average KNN Acc 90.79%\n"
     ]
    }
   ],
   "source": [
    "\n",
    "# new model\n",
    "model = KNeighborsClassifier()\n",
    "# Show Prior\n",
    "print(\"Resub KNN: {0:6.5f}\".format(KNN_RESUB_SCORE))\n",
    "# Run Cross Val\n",
    "cv_results = sklearn.model_selection.cross_val_score(model, X, y, cv=XFOLD)\n",
    "\n",
    "for i,acc in enumerate(cv_results):\n",
    "    change = (acc-KNN_RESUB_SCORE)/KNN_RESUB_SCORE * 100\n",
    "    print(\"Fold {}: {:6.5f}, change {:5.2f}%\".format(i,acc,change))\n",
    "    \n",
    "print(\"Average KNN Acc {:5.2f}%\".format(np.mean(cv_results)*100))"
   ]
  },
  {
   "cell_type": "code",
   "execution_count": 19,
   "metadata": {},
   "outputs": [
    {
     "name": "stdout",
     "output_type": "stream",
     "text": [
      "Resub Decision Tree: 0.99982\n",
      "Fold 0: 0.87447, change -12.54%\n",
      "Fold 1: 0.88110, change -11.87%\n",
      "Fold 2: 0.87565, change -12.42%\n",
      "Fold 3: 0.87917, change -12.07%\n",
      "Fold 4: 0.87895, change -12.09%\n",
      "Average Decision Tree Acc 87.79%\n"
     ]
    }
   ],
   "source": [
    "# new model\n",
    "model = DecisionTreeClassifier()\n",
    "# Show Prior\n",
    "print(\"Resub Decision Tree: {0:6.5f}\".format(DT_RESUB_SCORE))\n",
    "# Run Cross Val\n",
    "cv_results = sklearn.model_selection.cross_val_score(model, X, y, cv=XFOLD)\n",
    "\n",
    "for i,acc in enumerate(cv_results):\n",
    "    change = (acc-DT_RESUB_SCORE)/DT_RESUB_SCORE * 100\n",
    "    print(\"Fold {}: {:6.5f}, change {:5.2f}%\".format(i,acc,change))\n",
    "    \n",
    "print(\"Average Decision Tree Acc {:5.2f}%\".format(np.mean(cv_results)*100))"
   ]
  },
  {
   "cell_type": "code",
   "execution_count": 20,
   "metadata": {},
   "outputs": [
    {
     "name": "stdout",
     "output_type": "stream",
     "text": [
      "Resub SVC: 0.81846\n",
      "Fold 0: 0.86817, change  6.07%\n",
      "Fold 1: 0.26266, change -67.91%\n",
      "Fold 2: 0.86728, change  5.96%\n",
      "Fold 3: 0.78662, change -3.89%\n",
      "Fold 4: 0.85839, change  4.88%\n",
      "Average Linear SVC Acc 72.86%\n"
     ]
    }
   ],
   "source": [
    "# new model\n",
    "model = LinearSVC()\n",
    "# Show Prior\n",
    "print(\"Resub SVC: {0:6.5f}\".format(SVC_RESUB_SCORE))\n",
    "# Run Cross Val\n",
    "cv_results = sklearn.model_selection.cross_val_score(model, X, y, cv=XFOLD)\n",
    "\n",
    "for i,acc in enumerate(cv_results):\n",
    "    change = (acc-SVC_RESUB_SCORE)/SVC_RESUB_SCORE * 100\n",
    "    print(\"Fold {}: {:6.5f}, change {:5.2f}%\".format(i,acc,change))\n",
    "    \n",
    "print(\"Average Linear SVC Acc {:5.2f}%\".format(np.mean(cv_results)*100))"
   ]
  },
  {
   "cell_type": "markdown",
   "metadata": {},
   "source": [
    "## Notes \n",
    " * Average Logit Acc 88.64%\n",
    " * Average KNN Acc 90.67%\n",
    " * Average Decision Tree Acc 87.67%\n",
    " * Average Linear SVC Acc 78.55%\n",
    "\n",
    "### The high-performing decision tree seems overfit .\n",
    "\n",
    "### The linear Support Vector Machine is very inconsistent\n",
    "\n",
    "### The best is the KNN with an average Accuracy of 90.67%"
   ]
  },
  {
   "cell_type": "markdown",
   "metadata": {},
   "source": [
    "---"
   ]
  }
 ],
 "metadata": {
  "kernelspec": {
   "display_name": "Python 3",
   "language": "python",
   "name": "python3"
  },
  "language_info": {
   "codemirror_mode": {
    "name": "ipython",
    "version": 3
   },
   "file_extension": ".py",
   "mimetype": "text/x-python",
   "name": "python",
   "nbconvert_exporter": "python",
   "pygments_lexer": "ipython3",
   "version": "3.7.3"
  }
 },
 "nbformat": 4,
 "nbformat_minor": 2
}
